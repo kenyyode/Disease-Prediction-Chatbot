{
 "cells": [
  {
   "cell_type": "code",
   "execution_count": 21,
   "metadata": {},
   "outputs": [
    {
     "name": "stderr",
     "output_type": "stream",
     "text": [
      "[nltk_data] Error loading stopwords: <urlopen error [Errno 11001]\n",
      "[nltk_data]     getaddrinfo failed>\n"
     ]
    },
    {
     "data": {
      "text/plain": [
       "False"
      ]
     },
     "execution_count": 21,
     "metadata": {},
     "output_type": "execute_result"
    }
   ],
   "source": [
    "### import all the neccessary libries\n",
    "import tensorflow as tf \n",
    "import pandas as pd\n",
    "import numpy as np\n",
    "\n",
    "import matplotlib.pyplot as plt\n",
    "import seaborn as sns\n",
    "from tensorflow import keras \n",
    "from tensorflow.keras.preprocessing.text import Tokenizer\n",
    "from tensorflow.keras.preprocessing.sequence import pad_sequences\n",
    "from sklearn.model_selection import train_test_split\n",
    "from sklearn.preprocessing import LabelEncoder\n",
    "import re\n",
    "import nltk\n",
    "from nltk.corpus import stopwords\n",
    "\n",
    "## download neccesarry resoucres\n",
    "nltk.download('stopwords')"
   ]
  },
  {
   "cell_type": "code",
   "execution_count": 22,
   "metadata": {},
   "outputs": [],
   "source": [
    "## loading the dataset \n",
    "data = pd.read_csv('data/Symptom2Disease.csv') "
   ]
  },
  {
   "cell_type": "code",
   "execution_count": 23,
   "metadata": {},
   "outputs": [],
   "source": [
    "def remove_digits(text):\n",
    "    pattern = r'[^a-zA-z.,!?/:;\\\"\\'\\s]' \n",
    "    #when the ^ is on the inside of []; we are matching any character that is not included in this expression within the []\n",
    "    return re.sub(pattern, '', text)\n",
    "\n",
    "def remove_special_characters(text):\n",
    "    pattern = r'[^a-zA-z0-9.,!?/:;\\\"\\'\\s]'   # define the pattern to keep\n",
    "    return re.sub(pattern, '', text)\n",
    "\n",
    "def non_ascii(s):\n",
    "  return \"\".join(i for i in s if ord(i)<128)\n",
    "\n",
    "def non_ascii(s):\n",
    "  return \"\".join(i for i in s if ord(i)<128)\n",
    "\n",
    "def lower(text):\n",
    "  return text.lower()\n",
    "\n",
    "## function to remove stop words. \n",
    "def remove_stopwords(text):\n",
    "    stop_words = set(stopwords.words('english'))\n",
    "    tokens = [word for word in text.split() if word not in stop_words]\n",
    "    return ' '.join(tokens)"
   ]
  },
  {
   "cell_type": "code",
   "execution_count": 24,
   "metadata": {},
   "outputs": [],
   "source": [
    "def clean_data(df, col): \n",
    "    df[col] = df[col].apply(remove_digits)\n",
    "    df[col] = df[col].apply(remove_special_characters)\n",
    "    df[col] = df[col].apply(non_ascii)\n",
    "    df[col] = df[col].apply(lower)\n",
    "    return df\n",
    "    "
   ]
  },
  {
   "cell_type": "code",
   "execution_count": 25,
   "metadata": {},
   "outputs": [],
   "source": [
    "df = clean_data(data, 'text')"
   ]
  },
  {
   "cell_type": "code",
   "execution_count": 26,
   "metadata": {},
   "outputs": [
    {
     "data": {
      "text/html": [
       "<div>\n",
       "<style scoped>\n",
       "    .dataframe tbody tr th:only-of-type {\n",
       "        vertical-align: middle;\n",
       "    }\n",
       "\n",
       "    .dataframe tbody tr th {\n",
       "        vertical-align: top;\n",
       "    }\n",
       "\n",
       "    .dataframe thead th {\n",
       "        text-align: right;\n",
       "    }\n",
       "</style>\n",
       "<table border=\"1\" class=\"dataframe\">\n",
       "  <thead>\n",
       "    <tr style=\"text-align: right;\">\n",
       "      <th></th>\n",
       "      <th>Unnamed: 0</th>\n",
       "      <th>label</th>\n",
       "      <th>text</th>\n",
       "    </tr>\n",
       "  </thead>\n",
       "  <tbody>\n",
       "    <tr>\n",
       "      <th>0</th>\n",
       "      <td>0</td>\n",
       "      <td>Psoriasis</td>\n",
       "      <td>i have been experiencing a skin rash on my arm...</td>\n",
       "    </tr>\n",
       "    <tr>\n",
       "      <th>1</th>\n",
       "      <td>1</td>\n",
       "      <td>Psoriasis</td>\n",
       "      <td>my skin has been peeling, especially on my kne...</td>\n",
       "    </tr>\n",
       "    <tr>\n",
       "      <th>2</th>\n",
       "      <td>2</td>\n",
       "      <td>Psoriasis</td>\n",
       "      <td>i have been experiencing joint pain in my fing...</td>\n",
       "    </tr>\n",
       "    <tr>\n",
       "      <th>3</th>\n",
       "      <td>3</td>\n",
       "      <td>Psoriasis</td>\n",
       "      <td>there is a silver like dusting on my skin, esp...</td>\n",
       "    </tr>\n",
       "    <tr>\n",
       "      <th>4</th>\n",
       "      <td>4</td>\n",
       "      <td>Psoriasis</td>\n",
       "      <td>my nails have small dents or pits in them, and...</td>\n",
       "    </tr>\n",
       "  </tbody>\n",
       "</table>\n",
       "</div>"
      ],
      "text/plain": [
       "   Unnamed: 0      label                                               text\n",
       "0           0  Psoriasis  i have been experiencing a skin rash on my arm...\n",
       "1           1  Psoriasis  my skin has been peeling, especially on my kne...\n",
       "2           2  Psoriasis  i have been experiencing joint pain in my fing...\n",
       "3           3  Psoriasis  there is a silver like dusting on my skin, esp...\n",
       "4           4  Psoriasis  my nails have small dents or pits in them, and..."
      ]
     },
     "execution_count": 26,
     "metadata": {},
     "output_type": "execute_result"
    }
   ],
   "source": [
    "df.head()"
   ]
  },
  {
   "cell_type": "code",
   "execution_count": 27,
   "metadata": {},
   "outputs": [
    {
     "name": "stdout",
     "output_type": "stream",
     "text": [
      "<class 'pandas.core.frame.DataFrame'>\n",
      "RangeIndex: 1200 entries, 0 to 1199\n",
      "Data columns (total 3 columns):\n",
      " #   Column      Non-Null Count  Dtype \n",
      "---  ------      --------------  ----- \n",
      " 0   Unnamed: 0  1200 non-null   int64 \n",
      " 1   label       1200 non-null   object\n",
      " 2   text        1200 non-null   object\n",
      "dtypes: int64(1), object(2)\n",
      "memory usage: 28.3+ KB\n"
     ]
    }
   ],
   "source": [
    "df.info()"
   ]
  },
  {
   "cell_type": "code",
   "execution_count": 28,
   "metadata": {},
   "outputs": [
    {
     "data": {
      "text/plain": [
       "0"
      ]
     },
     "execution_count": 28,
     "metadata": {},
     "output_type": "execute_result"
    }
   ],
   "source": [
    "df.duplicated().sum()"
   ]
  },
  {
   "cell_type": "code",
   "execution_count": 29,
   "metadata": {},
   "outputs": [],
   "source": [
    "labels = df['label']\n",
    "text = df['text']\n",
    "\n",
    "## encoding the labels. \n",
    "encoder = LabelEncoder()\n",
    "labels = encoder.fit_transform(labels)\n",
    "\n",
    "### removing stop words before breaking into test and training data set. \n",
    "text = text.apply(remove_stopwords)"
   ]
  },
  {
   "cell_type": "code",
   "execution_count": 30,
   "metadata": {},
   "outputs": [
    {
     "data": {
      "text/plain": [
       "array(['Acne', 'Arthritis', 'Bronchial Asthma', 'Cervical spondylosis',\n",
       "       'Chicken pox', 'Common Cold', 'Dengue', 'Dimorphic Hemorrhoids',\n",
       "       'Fungal infection', 'Hypertension', 'Impetigo', 'Jaundice',\n",
       "       'Malaria', 'Migraine', 'Pneumonia', 'Psoriasis', 'Typhoid',\n",
       "       'Varicose Veins', 'allergy', 'diabetes', 'drug reaction',\n",
       "       'gastroesophageal reflux disease', 'peptic ulcer disease',\n",
       "       'urinary tract infection'], dtype=object)"
      ]
     },
     "execution_count": 30,
     "metadata": {},
     "output_type": "execute_result"
    }
   ],
   "source": [
    "encoder.classes_"
   ]
  },
  {
   "cell_type": "code",
   "execution_count": 31,
   "metadata": {},
   "outputs": [],
   "source": [
    "X_train, X_test, y_train, y_test = train_test_split(text, labels, test_size=0.2, random_state=42,)"
   ]
  },
  {
   "cell_type": "code",
   "execution_count": 32,
   "metadata": {},
   "outputs": [],
   "source": [
    "## further preprocessing of our training dataset\n",
    "tokenize = Tokenizer(num_words=10000, oov_token='<00V>')\n",
    "tokenize.fit_on_texts(X_train)\n",
    "X_train = tokenize.texts_to_sequences(X_train)\n",
    "word_indexes = tokenize.word_index\n",
    "\n",
    "# Determine maxlen from training data\n",
    "max_len = max(len(seq) for seq in X_train)\n",
    "X_train_padded = pad_sequences(X_train, maxlen=max_len, padding='post')"
   ]
  },
  {
   "cell_type": "code",
   "execution_count": 33,
   "metadata": {},
   "outputs": [],
   "source": [
    "# further preprocessing for our test data \n",
    "X_test = tokenize.texts_to_sequences(X_test)\n",
    "\n",
    "# Determine maxlen from training data\n",
    "max_len = max(len(seq) for seq in X_test)\n",
    "X_test_padded = pad_sequences(X_test, maxlen=max_len, padding='post')"
   ]
  },
  {
   "cell_type": "code",
   "execution_count": 34,
   "metadata": {},
   "outputs": [],
   "source": [
    "## let's define some variables \n",
    "\n",
    "embedding_dimession = 50\n",
    "input_dim = len(word_indexes)\n",
    "ouput_layer = len(encoder.classes_)\n",
    "#modeling\n",
    "model = keras.Sequential([\n",
    "    keras.layers.Embedding(10000, embedding_dimession),\n",
    "    #keras.layers.LSTM(64, return_sequences=False),\n",
    "    keras.layers.GlobalAveragePooling1D(),\n",
    "    keras.layers.BatchNormalization(),\n",
    "    keras.layers.Dropout(0.5),\n",
    "    keras.layers.Dense(64, activation='relu'),\n",
    "    keras.layers.Dense(64, activation='relu'),\n",
    "    keras.layers.Dense(ouput_layer, activation='softmax')\n",
    "])"
   ]
  },
  {
   "cell_type": "code",
   "execution_count": 35,
   "metadata": {},
   "outputs": [],
   "source": [
    "## compiling the model \n",
    "model.compile(loss='sparse_categorical_crossentropy', metrics=['accuracy'], optimizer='adam')"
   ]
  },
  {
   "cell_type": "code",
   "execution_count": 36,
   "metadata": {},
   "outputs": [
    {
     "name": "stdout",
     "output_type": "stream",
     "text": [
      "Epoch 1/100\n",
      "2/2 - 8s - 4s/step - accuracy: 0.0490 - loss: 3.1758 - val_accuracy: 0.0667 - val_loss: 3.1766\n",
      "Epoch 2/100\n",
      "2/2 - 1s - 380ms/step - accuracy: 0.0865 - loss: 3.1400 - val_accuracy: 0.0875 - val_loss: 3.1752\n",
      "Epoch 3/100\n",
      "2/2 - 0s - 183ms/step - accuracy: 0.1219 - loss: 3.1026 - val_accuracy: 0.0583 - val_loss: 3.1734\n",
      "Epoch 4/100\n",
      "2/2 - 0s - 162ms/step - accuracy: 0.1802 - loss: 3.0606 - val_accuracy: 0.0625 - val_loss: 3.1713\n",
      "Epoch 5/100\n",
      "2/2 - 0s - 160ms/step - accuracy: 0.1896 - loss: 3.0168 - val_accuracy: 0.0583 - val_loss: 3.1686\n",
      "Epoch 6/100\n",
      "2/2 - 0s - 108ms/step - accuracy: 0.2302 - loss: 2.9621 - val_accuracy: 0.0542 - val_loss: 3.1652\n",
      "Epoch 7/100\n",
      "2/2 - 0s - 78ms/step - accuracy: 0.2635 - loss: 2.9090 - val_accuracy: 0.0542 - val_loss: 3.1610\n",
      "Epoch 8/100\n",
      "2/2 - 0s - 81ms/step - accuracy: 0.2896 - loss: 2.8343 - val_accuracy: 0.0500 - val_loss: 3.1560\n",
      "Epoch 9/100\n",
      "2/2 - 0s - 79ms/step - accuracy: 0.3000 - loss: 2.7635 - val_accuracy: 0.0667 - val_loss: 3.1496\n",
      "Epoch 10/100\n",
      "2/2 - 0s - 77ms/step - accuracy: 0.3365 - loss: 2.6739 - val_accuracy: 0.0708 - val_loss: 3.1418\n",
      "Epoch 11/100\n",
      "2/2 - 0s - 80ms/step - accuracy: 0.3667 - loss: 2.5812 - val_accuracy: 0.0833 - val_loss: 3.1325\n",
      "Epoch 12/100\n",
      "2/2 - 0s - 185ms/step - accuracy: 0.3708 - loss: 2.4891 - val_accuracy: 0.1083 - val_loss: 3.1219\n",
      "Epoch 13/100\n",
      "2/2 - 0s - 172ms/step - accuracy: 0.3896 - loss: 2.3724 - val_accuracy: 0.1250 - val_loss: 3.1099\n",
      "Epoch 14/100\n",
      "2/2 - 0s - 81ms/step - accuracy: 0.4500 - loss: 2.2652 - val_accuracy: 0.1500 - val_loss: 3.0963\n",
      "Epoch 15/100\n",
      "2/2 - 0s - 93ms/step - accuracy: 0.4802 - loss: 2.1670 - val_accuracy: 0.2083 - val_loss: 3.0812\n",
      "Epoch 16/100\n",
      "2/2 - 0s - 171ms/step - accuracy: 0.5396 - loss: 2.0295 - val_accuracy: 0.2833 - val_loss: 3.0648\n",
      "Epoch 17/100\n",
      "2/2 - 0s - 86ms/step - accuracy: 0.6094 - loss: 1.8763 - val_accuracy: 0.3167 - val_loss: 3.0470\n",
      "Epoch 18/100\n",
      "2/2 - 0s - 175ms/step - accuracy: 0.6000 - loss: 1.8014 - val_accuracy: 0.3750 - val_loss: 3.0280\n",
      "Epoch 19/100\n",
      "2/2 - 0s - 103ms/step - accuracy: 0.6875 - loss: 1.6574 - val_accuracy: 0.4167 - val_loss: 3.0078\n",
      "Epoch 20/100\n",
      "2/2 - 0s - 84ms/step - accuracy: 0.7375 - loss: 1.5316 - val_accuracy: 0.4750 - val_loss: 2.9864\n",
      "Epoch 21/100\n",
      "2/2 - 0s - 82ms/step - accuracy: 0.7740 - loss: 1.4106 - val_accuracy: 0.5042 - val_loss: 2.9637\n",
      "Epoch 22/100\n",
      "2/2 - 0s - 81ms/step - accuracy: 0.8115 - loss: 1.2907 - val_accuracy: 0.5417 - val_loss: 2.9397\n",
      "Epoch 23/100\n",
      "2/2 - 0s - 100ms/step - accuracy: 0.8375 - loss: 1.1684 - val_accuracy: 0.5750 - val_loss: 2.9146\n",
      "Epoch 24/100\n",
      "2/2 - 0s - 167ms/step - accuracy: 0.8687 - loss: 1.0533 - val_accuracy: 0.6083 - val_loss: 2.8883\n",
      "Epoch 25/100\n",
      "2/2 - 0s - 74ms/step - accuracy: 0.8635 - loss: 0.9483 - val_accuracy: 0.6583 - val_loss: 2.8614\n",
      "Epoch 26/100\n",
      "2/2 - 0s - 68ms/step - accuracy: 0.9135 - loss: 0.8221 - val_accuracy: 0.7083 - val_loss: 2.8337\n",
      "Epoch 27/100\n",
      "2/2 - 0s - 85ms/step - accuracy: 0.9167 - loss: 0.7579 - val_accuracy: 0.7250 - val_loss: 2.8057\n",
      "Epoch 28/100\n",
      "2/2 - 0s - 71ms/step - accuracy: 0.9156 - loss: 0.6715 - val_accuracy: 0.7583 - val_loss: 2.7774\n",
      "Epoch 29/100\n",
      "2/2 - 0s - 73ms/step - accuracy: 0.9344 - loss: 0.5978 - val_accuracy: 0.7750 - val_loss: 2.7489\n",
      "Epoch 30/100\n",
      "2/2 - 0s - 83ms/step - accuracy: 0.9396 - loss: 0.5274 - val_accuracy: 0.7667 - val_loss: 2.7206\n",
      "Epoch 31/100\n",
      "2/2 - 0s - 77ms/step - accuracy: 0.9417 - loss: 0.4871 - val_accuracy: 0.7333 - val_loss: 2.6924\n",
      "Epoch 32/100\n",
      "2/2 - 0s - 99ms/step - accuracy: 0.9604 - loss: 0.4245 - val_accuracy: 0.7375 - val_loss: 2.6641\n",
      "Epoch 33/100\n",
      "2/2 - 0s - 79ms/step - accuracy: 0.9583 - loss: 0.3802 - val_accuracy: 0.7458 - val_loss: 2.6360\n",
      "Epoch 34/100\n",
      "2/2 - 0s - 89ms/step - accuracy: 0.9479 - loss: 0.3604 - val_accuracy: 0.7333 - val_loss: 2.6079\n",
      "Epoch 35/100\n",
      "2/2 - 0s - 83ms/step - accuracy: 0.9594 - loss: 0.3215 - val_accuracy: 0.7375 - val_loss: 2.5801\n",
      "Epoch 36/100\n",
      "2/2 - 0s - 106ms/step - accuracy: 0.9656 - loss: 0.2875 - val_accuracy: 0.7500 - val_loss: 2.5529\n",
      "Epoch 37/100\n",
      "2/2 - 0s - 158ms/step - accuracy: 0.9667 - loss: 0.2645 - val_accuracy: 0.7667 - val_loss: 2.5261\n",
      "Epoch 38/100\n",
      "2/2 - 0s - 117ms/step - accuracy: 0.9719 - loss: 0.2316 - val_accuracy: 0.7875 - val_loss: 2.4999\n",
      "Epoch 39/100\n",
      "2/2 - 0s - 115ms/step - accuracy: 0.9812 - loss: 0.2016 - val_accuracy: 0.7958 - val_loss: 2.4743\n",
      "Epoch 40/100\n",
      "2/2 - 0s - 119ms/step - accuracy: 0.9677 - loss: 0.1995 - val_accuracy: 0.8125 - val_loss: 2.4492\n",
      "Epoch 41/100\n",
      "2/2 - 0s - 83ms/step - accuracy: 0.9760 - loss: 0.1811 - val_accuracy: 0.8333 - val_loss: 2.4250\n",
      "Epoch 42/100\n",
      "2/2 - 0s - 74ms/step - accuracy: 0.9802 - loss: 0.1618 - val_accuracy: 0.8375 - val_loss: 2.4014\n",
      "Epoch 43/100\n",
      "2/2 - 0s - 85ms/step - accuracy: 0.9885 - loss: 0.1476 - val_accuracy: 0.8375 - val_loss: 2.3786\n",
      "Epoch 44/100\n",
      "2/2 - 0s - 83ms/step - accuracy: 0.9833 - loss: 0.1546 - val_accuracy: 0.8750 - val_loss: 2.3563\n",
      "Epoch 45/100\n",
      "2/2 - 0s - 71ms/step - accuracy: 0.9865 - loss: 0.1345 - val_accuracy: 0.8875 - val_loss: 2.3345\n",
      "Epoch 46/100\n",
      "2/2 - 0s - 87ms/step - accuracy: 0.9823 - loss: 0.1363 - val_accuracy: 0.8875 - val_loss: 2.3129\n",
      "Epoch 47/100\n",
      "2/2 - 0s - 96ms/step - accuracy: 0.9844 - loss: 0.1301 - val_accuracy: 0.8917 - val_loss: 2.2916\n",
      "Epoch 48/100\n",
      "2/2 - 0s - 148ms/step - accuracy: 0.9875 - loss: 0.1145 - val_accuracy: 0.8833 - val_loss: 2.2710\n",
      "Epoch 49/100\n",
      "2/2 - 0s - 160ms/step - accuracy: 0.9844 - loss: 0.1122 - val_accuracy: 0.8875 - val_loss: 2.2509\n",
      "Epoch 50/100\n",
      "2/2 - 0s - 67ms/step - accuracy: 0.9948 - loss: 0.0873 - val_accuracy: 0.8792 - val_loss: 2.2311\n",
      "Epoch 51/100\n",
      "2/2 - 0s - 72ms/step - accuracy: 0.9917 - loss: 0.0969 - val_accuracy: 0.8833 - val_loss: 2.2114\n",
      "Epoch 52/100\n",
      "2/2 - 0s - 87ms/step - accuracy: 0.9927 - loss: 0.0808 - val_accuracy: 0.8792 - val_loss: 2.1928\n",
      "Epoch 53/100\n",
      "2/2 - 0s - 91ms/step - accuracy: 0.9948 - loss: 0.0805 - val_accuracy: 0.8875 - val_loss: 2.1744\n",
      "Epoch 54/100\n",
      "2/2 - 0s - 90ms/step - accuracy: 0.9927 - loss: 0.0762 - val_accuracy: 0.8917 - val_loss: 2.1557\n",
      "Epoch 55/100\n",
      "2/2 - 0s - 201ms/step - accuracy: 0.9927 - loss: 0.0703 - val_accuracy: 0.8875 - val_loss: 2.1372\n",
      "Epoch 56/100\n",
      "2/2 - 0s - 118ms/step - accuracy: 0.9937 - loss: 0.0659 - val_accuracy: 0.9000 - val_loss: 2.1197\n",
      "Epoch 57/100\n",
      "2/2 - 0s - 168ms/step - accuracy: 0.9958 - loss: 0.0644 - val_accuracy: 0.9042 - val_loss: 2.1022\n",
      "Epoch 58/100\n",
      "2/2 - 0s - 165ms/step - accuracy: 0.9927 - loss: 0.0554 - val_accuracy: 0.9125 - val_loss: 2.0850\n",
      "Epoch 59/100\n",
      "2/2 - 0s - 175ms/step - accuracy: 0.9948 - loss: 0.0615 - val_accuracy: 0.9125 - val_loss: 2.0680\n",
      "Epoch 60/100\n",
      "2/2 - 0s - 154ms/step - accuracy: 0.9937 - loss: 0.0611 - val_accuracy: 0.9083 - val_loss: 2.0512\n",
      "Epoch 61/100\n",
      "2/2 - 0s - 122ms/step - accuracy: 0.9958 - loss: 0.0536 - val_accuracy: 0.9042 - val_loss: 2.0350\n",
      "Epoch 62/100\n",
      "2/2 - 0s - 177ms/step - accuracy: 0.9958 - loss: 0.0526 - val_accuracy: 0.9083 - val_loss: 2.0189\n",
      "Epoch 63/100\n",
      "2/2 - 0s - 155ms/step - accuracy: 0.9958 - loss: 0.0500 - val_accuracy: 0.9083 - val_loss: 2.0027\n",
      "Epoch 64/100\n",
      "2/2 - 0s - 126ms/step - accuracy: 0.9937 - loss: 0.0532 - val_accuracy: 0.9167 - val_loss: 1.9863\n",
      "Epoch 65/100\n",
      "2/2 - 0s - 175ms/step - accuracy: 0.9979 - loss: 0.0476 - val_accuracy: 0.9167 - val_loss: 1.9701\n",
      "Epoch 66/100\n",
      "2/2 - 0s - 192ms/step - accuracy: 0.9948 - loss: 0.0520 - val_accuracy: 0.9208 - val_loss: 1.9529\n",
      "Epoch 67/100\n",
      "2/2 - 0s - 125ms/step - accuracy: 0.9969 - loss: 0.0451 - val_accuracy: 0.9250 - val_loss: 1.9354\n",
      "Epoch 68/100\n",
      "2/2 - 0s - 134ms/step - accuracy: 0.9948 - loss: 0.0485 - val_accuracy: 0.9250 - val_loss: 1.9178\n",
      "Epoch 69/100\n",
      "2/2 - 0s - 118ms/step - accuracy: 0.9917 - loss: 0.0521 - val_accuracy: 0.9250 - val_loss: 1.8998\n",
      "Epoch 70/100\n",
      "2/2 - 0s - 169ms/step - accuracy: 0.9979 - loss: 0.0363 - val_accuracy: 0.9250 - val_loss: 1.8821\n",
      "Epoch 71/100\n",
      "2/2 - 0s - 115ms/step - accuracy: 0.9969 - loss: 0.0411 - val_accuracy: 0.9250 - val_loss: 1.8643\n",
      "Epoch 72/100\n",
      "2/2 - 0s - 127ms/step - accuracy: 0.9979 - loss: 0.0370 - val_accuracy: 0.9250 - val_loss: 1.8474\n",
      "Epoch 73/100\n",
      "2/2 - 0s - 222ms/step - accuracy: 0.9969 - loss: 0.0444 - val_accuracy: 0.9250 - val_loss: 1.8307\n",
      "Epoch 74/100\n",
      "2/2 - 0s - 145ms/step - accuracy: 0.9979 - loss: 0.0397 - val_accuracy: 0.9292 - val_loss: 1.8141\n",
      "Epoch 75/100\n",
      "2/2 - 0s - 133ms/step - accuracy: 0.9979 - loss: 0.0415 - val_accuracy: 0.9333 - val_loss: 1.7977\n",
      "Epoch 76/100\n",
      "2/2 - 0s - 141ms/step - accuracy: 0.9979 - loss: 0.0427 - val_accuracy: 0.9333 - val_loss: 1.7817\n",
      "Epoch 77/100\n",
      "2/2 - 0s - 121ms/step - accuracy: 0.9958 - loss: 0.0380 - val_accuracy: 0.9333 - val_loss: 1.7655\n",
      "Epoch 78/100\n",
      "2/2 - 0s - 146ms/step - accuracy: 0.9958 - loss: 0.0348 - val_accuracy: 0.9333 - val_loss: 1.7490\n",
      "Epoch 79/100\n",
      "2/2 - 0s - 165ms/step - accuracy: 0.9990 - loss: 0.0251 - val_accuracy: 0.9333 - val_loss: 1.7323\n",
      "Epoch 80/100\n",
      "2/2 - 0s - 163ms/step - accuracy: 0.9979 - loss: 0.0327 - val_accuracy: 0.9333 - val_loss: 1.7156\n",
      "Epoch 81/100\n",
      "2/2 - 0s - 219ms/step - accuracy: 0.9948 - loss: 0.0332 - val_accuracy: 0.9333 - val_loss: 1.6988\n",
      "Epoch 82/100\n",
      "2/2 - 1s - 318ms/step - accuracy: 0.9948 - loss: 0.0324 - val_accuracy: 0.9417 - val_loss: 1.6825\n",
      "Epoch 83/100\n",
      "2/2 - 0s - 177ms/step - accuracy: 1.0000 - loss: 0.0277 - val_accuracy: 0.9375 - val_loss: 1.6669\n",
      "Epoch 84/100\n",
      "2/2 - 0s - 124ms/step - accuracy: 0.9969 - loss: 0.0256 - val_accuracy: 0.9375 - val_loss: 1.6514\n",
      "Epoch 85/100\n",
      "2/2 - 0s - 144ms/step - accuracy: 0.9990 - loss: 0.0276 - val_accuracy: 0.9417 - val_loss: 1.6361\n",
      "Epoch 86/100\n",
      "2/2 - 0s - 118ms/step - accuracy: 1.0000 - loss: 0.0306 - val_accuracy: 0.9458 - val_loss: 1.6205\n",
      "Epoch 87/100\n",
      "2/2 - 0s - 122ms/step - accuracy: 0.9969 - loss: 0.0280 - val_accuracy: 0.9500 - val_loss: 1.6045\n",
      "Epoch 88/100\n",
      "2/2 - 1s - 433ms/step - accuracy: 0.9969 - loss: 0.0268 - val_accuracy: 0.9542 - val_loss: 1.5878\n",
      "Epoch 89/100\n",
      "2/2 - 1s - 467ms/step - accuracy: 0.9990 - loss: 0.0264 - val_accuracy: 0.9542 - val_loss: 1.5710\n",
      "Epoch 90/100\n",
      "2/2 - 0s - 135ms/step - accuracy: 1.0000 - loss: 0.0254 - val_accuracy: 0.9542 - val_loss: 1.5538\n",
      "Epoch 91/100\n",
      "2/2 - 0s - 184ms/step - accuracy: 0.9958 - loss: 0.0287 - val_accuracy: 0.9542 - val_loss: 1.5367\n",
      "Epoch 92/100\n",
      "2/2 - 0s - 163ms/step - accuracy: 0.9990 - loss: 0.0234 - val_accuracy: 0.9542 - val_loss: 1.5203\n",
      "Epoch 93/100\n",
      "2/2 - 1s - 304ms/step - accuracy: 0.9979 - loss: 0.0256 - val_accuracy: 0.9500 - val_loss: 1.5040\n",
      "Epoch 94/100\n",
      "2/2 - 0s - 161ms/step - accuracy: 0.9969 - loss: 0.0225 - val_accuracy: 0.9500 - val_loss: 1.4878\n",
      "Epoch 95/100\n",
      "2/2 - 0s - 124ms/step - accuracy: 0.9969 - loss: 0.0269 - val_accuracy: 0.9500 - val_loss: 1.4715\n",
      "Epoch 96/100\n",
      "2/2 - 0s - 174ms/step - accuracy: 0.9990 - loss: 0.0215 - val_accuracy: 0.9500 - val_loss: 1.4551\n",
      "Epoch 97/100\n",
      "2/2 - 0s - 136ms/step - accuracy: 0.9979 - loss: 0.0219 - val_accuracy: 0.9542 - val_loss: 1.4389\n",
      "Epoch 98/100\n",
      "2/2 - 0s - 139ms/step - accuracy: 1.0000 - loss: 0.0198 - val_accuracy: 0.9542 - val_loss: 1.4227\n",
      "Epoch 99/100\n",
      "2/2 - 0s - 230ms/step - accuracy: 0.9969 - loss: 0.0229 - val_accuracy: 0.9583 - val_loss: 1.4063\n",
      "Epoch 100/100\n",
      "2/2 - 0s - 149ms/step - accuracy: 0.9979 - loss: 0.0203 - val_accuracy: 0.9625 - val_loss: 1.3899\n"
     ]
    }
   ],
   "source": [
    "early_stopping = keras.callbacks.EarlyStopping(\n",
    "    patience=10,\n",
    "    min_delta=0.001,\n",
    "    restore_best_weights=True)\n",
    "\n",
    "history = model.fit(\n",
    "    X_train_padded, y_train,\n",
    "    epochs = 100, \n",
    "    validation_data = (X_test_padded, y_test),\n",
    "    callbacks = [early_stopping],\n",
    "    batch_size=512,\n",
    "    verbose = 2\n",
    ")"
   ]
  },
  {
   "cell_type": "code",
   "execution_count": 37,
   "metadata": {},
   "outputs": [
    {
     "data": {
      "image/png": "[encoded data removed]",
      "text/plain": [
       "<Figure size 640x480 with 1 Axes>"
      ]
     },
     "metadata": {},
     "output_type": "display_data"
    },
    {
     "data": {
      "image/png": "[encoded data removed]",
      "text/plain": [
       "<Figure size 640x480 with 1 Axes>"
      ]
     },
     "metadata": {},
     "output_type": "display_data"
    }
   ],
   "source": [
    "import matplotlib.pyplot as plt\n",
    "\n",
    "\n",
    "def plot_graphs(history, string):\n",
    "  plt.plot(history.history[string])\n",
    "  plt.plot(history.history['val_'+string])\n",
    "  plt.xlabel(\"Epochs\")\n",
    "  plt.ylabel(string)\n",
    "  plt.legend([string, 'val_'+string])\n",
    "  plt.show()\n",
    "  \n",
    "plot_graphs(history, \"accuracy\")\n",
    "plot_graphs(history, \"loss\")"
   ]
  },
  {
   "cell_type": "code",
   "execution_count": 38,
   "metadata": {},
   "outputs": [
    {
     "name": "stdout",
     "output_type": "stream",
     "text": [
      "\u001b[1m8/8\u001b[0m \u001b[32m━━━━━━━━━━━━━━━━━━━━\u001b[0m\u001b[37m\u001b[0m \u001b[1m1s\u001b[0m 99ms/step\n"
     ]
    }
   ],
   "source": [
    "predictions = model.predict(X_test_padded)\n",
    "\n",
    "# Convert probabilities to class labels\n",
    "predicted_labels_ = np.argmax(predictions, axis=1)"
   ]
  },
  {
   "cell_type": "code",
   "execution_count": 39,
   "metadata": {},
   "outputs": [],
   "source": [
    "# Inverse transform the predicted labels\n",
    "predicted_labels = encoder.inverse_transform(predicted_labels_)"
   ]
  },
  {
   "cell_type": "code",
   "execution_count": 40,
   "metadata": {},
   "outputs": [
    {
     "data": {
      "text/plain": [
       "0.0"
      ]
     },
     "execution_count": 40,
     "metadata": {},
     "output_type": "execute_result"
    }
   ],
   "source": [
    "np.sum(predicted_labels == y_test) / len(y_test)"
   ]
  },
  {
   "cell_type": "code",
   "execution_count": 41,
   "metadata": {},
   "outputs": [
    {
     "data": {
      "text/plain": [
       "0.9625"
      ]
     },
     "execution_count": 41,
     "metadata": {},
     "output_type": "execute_result"
    }
   ],
   "source": [
    "from sklearn.metrics import accuracy_score\n",
    "accuracy_score(y_test, predicted_labels_)"
   ]
  }
 ],
 "metadata": {
  "kernelspec": {
   "display_name": "myenv",
   "language": "python",
   "name": "python3"
  },
  "language_info": {
   "codemirror_mode": {
    "name": "ipython",
    "version": 3
   },
   "file_extension": ".py",
   "mimetype": "text/x-python",
   "name": "python",
   "nbconvert_exporter": "python",
   "pygments_lexer": "ipython3",
   "version": "3.12.4"
  }
 },
 "nbformat": 4,
 "nbformat_minor": 2
}
